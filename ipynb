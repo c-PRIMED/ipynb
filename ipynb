#!/usr/bin/env python
from __future__ import print_function

import sys, subprocess, time, signal, argparse, webbrowser

desc = """
Open a remote Ipython Notebook and connect a local browser to it via ssh.

You can specify a host with a username, such as 'user@foo.com'. You can
also use a ssh alias (defined in ~/.ssh/config)

It is OK to use a cluster name.  Once the ititial connection is established,
all future communications will be to the same node.

If you haven't already, you will probably want to set up passwordless
login for ssh. See
http://hortonworks.com/kb/generating-ssh-keys-for-passwordless-login/

If you don't want to do that, You might want to use the ssh ControlMaster feature
to have connections persist a while to save you from entering passwords all the time.
http://puppetlabs.com/blog/speed-up-ssh-by-reusing-connections

Without either of those, you will get prompted for passwords at each step in creating
and deleting the connections and servers. It may not even work.
"""
parser = argparse.ArgumentParser(description=desc)
parser.add_argument('host', help='Remote HostName. Used by ssh.')
parser.add_argument('--dir', help='Directory in which to run ipython. Default is your homedir.',
    default='')
args = vars(parser.parse_args())

def handler(signum, frame):
    global pid
    sig_name = tuple((v) for v, k in signal.__dict__.items() if k == signum)[0]
    # print('Got signal %s. Cleaning up and exiting...' % sig_name)
    try:
        tunnel.terminate()
    except:
        pass
    try:
        proc.terminate()
    except:
        pass

    cmd = "ssh %s \"kill %s\"" % (hostname, pid)
    print('Shuting down ipython server at', hostname)
    subprocess.call(cmd, shell=True)

signal.signal(signal.SIGINT, handler)
signal.signal(signal.SIGQUIT, handler)
signal.signal(signal.SIGTERM, handler)
signal.signal(signal.SIGHUP, handler)

host = args['host']
if len(host.split('@')) == 2:
    username = host.split('@')[0]
else:
    username = None

# ssh command starts up ipython in background, then returns pid and hostname
if args['dir']:
    cmd = "ssh %s \"{ cd %s ; ipython notebook --no-browser --ip 127.0.0.1 & }; echo >&2 \$! \$HOSTNAME \"" % (args['host'], args['dir'])
else:
    cmd = "ssh %s \"{ ipython notebook --no-browser --ip 127.0.0.1 & }; echo >&2 \$! \$HOSTNAME \"" % (args['host'])

# send ssh command
proc = subprocess.Popen(cmd, shell=True, stderr=subprocess.PIPE)

# parse response
pid, hostname = proc.stderr.readline().split()

print()
if username is not None:
    hostname = '%s@%s' % (username, hostname)

print('Connected to', hostname)
print('Remote pid is', pid)

# Use 'lsof' to map pid to tcp port.  Loop because of possible race conditions.
time.sleep(1)
for i in range(10):
    try:
        res = subprocess.check_output("ssh %s /usr/sbin/lsof -ai -Pp%s" % (hostname, pid), shell=True).decode()
        break
    except:
        time.sleep(2)

# parse lsof response
try:
    port = int(res.split('\n')[1].split()[-2].split(':')[-1])
except:
    port = 0

if port == 0:
    print("Error: Could not determine remote port number.")
    print(res)
    sys.exit(1)

print('\nStarting ssh tunnel\n')

# loop through ports starting at 888 to find one available
lport = 8888
while True:
    cmd = "ssh -o ExitOnForwardFailure=yes -N -L 127.0.0.1:%s:127.0.0.1:%s %s" % (lport, port, hostname)
    tunnel = subprocess.Popen(cmd, shell=True)
    time.sleep(3)
    tunnel.poll()
    if tunnel.returncode is None:
        break
    lport += 1
    tunnel.wait()

print('\nOpening http://localhost:%s' % lport)
webbrowser.open('http://localhost:%s' % lport)

tunnel.wait()
proc.wait()
